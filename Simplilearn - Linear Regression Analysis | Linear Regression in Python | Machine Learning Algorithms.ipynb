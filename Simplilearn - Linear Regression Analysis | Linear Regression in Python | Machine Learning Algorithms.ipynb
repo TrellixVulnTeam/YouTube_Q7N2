{
 "cells": [
  {
   "cell_type": "code",
   "execution_count": null,
   "metadata": {},
   "outputs": [],
   "source": [
    "# https://www.youtube.com/watch?v=NUXdtN1W1FE"
   ]
  },
  {
   "cell_type": "code",
   "execution_count": 1,
   "metadata": {},
   "outputs": [],
   "source": [
    "import numpy as np\n",
    "import pandas as pd\n",
    "import matplotlib.pyplot as plt\n",
    "import seaborn as sns\n",
    "%matplotlib inline"
   ]
  },
  {
   "cell_type": "code",
   "execution_count": 2,
   "metadata": {},
   "outputs": [
    {
     "data": {
      "text/html": [
       "<div>\n",
       "<style scoped>\n",
       "    .dataframe tbody tr th:only-of-type {\n",
       "        vertical-align: middle;\n",
       "    }\n",
       "\n",
       "    .dataframe tbody tr th {\n",
       "        vertical-align: top;\n",
       "    }\n",
       "\n",
       "    .dataframe thead th {\n",
       "        text-align: right;\n",
       "    }\n",
       "</style>\n",
       "<table border=\"1\" class=\"dataframe\">\n",
       "  <thead>\n",
       "    <tr style=\"text-align: right;\">\n",
       "      <th></th>\n",
       "      <th>R&amp;D Spend</th>\n",
       "      <th>Administration</th>\n",
       "      <th>Marketing Spend</th>\n",
       "      <th>State</th>\n",
       "      <th>Profit</th>\n",
       "    </tr>\n",
       "  </thead>\n",
       "  <tbody>\n",
       "    <tr>\n",
       "      <th>0</th>\n",
       "      <td>165349.20</td>\n",
       "      <td>136897.80</td>\n",
       "      <td>471784.10</td>\n",
       "      <td>New York</td>\n",
       "      <td>192261.83</td>\n",
       "    </tr>\n",
       "    <tr>\n",
       "      <th>1</th>\n",
       "      <td>162597.70</td>\n",
       "      <td>151377.59</td>\n",
       "      <td>443898.53</td>\n",
       "      <td>California</td>\n",
       "      <td>191792.06</td>\n",
       "    </tr>\n",
       "    <tr>\n",
       "      <th>2</th>\n",
       "      <td>153441.51</td>\n",
       "      <td>101145.55</td>\n",
       "      <td>407934.54</td>\n",
       "      <td>Florida</td>\n",
       "      <td>191050.39</td>\n",
       "    </tr>\n",
       "    <tr>\n",
       "      <th>3</th>\n",
       "      <td>144372.41</td>\n",
       "      <td>118671.85</td>\n",
       "      <td>383199.62</td>\n",
       "      <td>New York</td>\n",
       "      <td>182901.99</td>\n",
       "    </tr>\n",
       "    <tr>\n",
       "      <th>4</th>\n",
       "      <td>142107.34</td>\n",
       "      <td>91391.77</td>\n",
       "      <td>366168.42</td>\n",
       "      <td>Florida</td>\n",
       "      <td>166187.94</td>\n",
       "    </tr>\n",
       "  </tbody>\n",
       "</table>\n",
       "</div>"
      ],
      "text/plain": [
       "   R&D Spend  Administration  Marketing Spend       State     Profit\n",
       "0  165349.20       136897.80        471784.10    New York  192261.83\n",
       "1  162597.70       151377.59        443898.53  California  191792.06\n",
       "2  153441.51       101145.55        407934.54     Florida  191050.39\n",
       "3  144372.41       118671.85        383199.62    New York  182901.99\n",
       "4  142107.34        91391.77        366168.42     Florida  166187.94"
      ]
     },
     "execution_count": 2,
     "metadata": {},
     "output_type": "execute_result"
    }
   ],
   "source": [
    "# need dataset\n",
    "companies = pd.read_csv(\"1000_Companies.csv\")\n",
    "X = companies.iloc[:, :-1].values\n",
    "y = companies.iloc[:, 4].values\n",
    "companies.head()"
   ]
  },
  {
   "cell_type": "code",
   "execution_count": 3,
   "metadata": {},
   "outputs": [
    {
     "data": {
      "text/plain": [
       "<matplotlib.axes._subplots.AxesSubplot at 0x7f9ec3e49b50>"
      ]
     },
     "execution_count": 3,
     "metadata": {},
     "output_type": "execute_result"
    },
    {
     "data": {
      "image/png": "[encoded data removed]",
      "text/plain": [
       "<Figure size 432x288 with 2 Axes>"
      ]
     },
     "metadata": {
      "needs_background": "light"
     },
     "output_type": "display_data"
    }
   ],
   "source": [
    "# build the correlation matrix\n",
    "sns.heatmap(companies.corr())"
   ]
  },
  {
   "cell_type": "code",
   "execution_count": 4,
   "metadata": {},
   "outputs": [
    {
     "data": {
      "text/plain": [
       "array([[0.0, 0.0, 1.0, 165349.2, 136897.8, 471784.1],\n",
       "       [1.0, 0.0, 0.0, 162597.7, 151377.59, 443898.53],\n",
       "       [0.0, 1.0, 0.0, 153441.51, 101145.55, 407934.54],\n",
       "       ...,\n",
       "       [1.0, 0.0, 0.0, 100275.47, 241926.31, 227142.82],\n",
       "       [1.0, 0.0, 0.0, 128456.23, 321652.14, 281692.32],\n",
       "       [0.0, 0.0, 1.0, 161181.72, 270939.86, 295442.17]], dtype=object)"
      ]
     },
     "execution_count": 4,
     "metadata": {},
     "output_type": "execute_result"
    }
   ],
   "source": [
    "# encode categorical data\n",
    "# currently the State column has values \"New York\", \"California\", \"Florida\"\n",
    "# need to encode the state names into numbers for linear regresion\n",
    "from sklearn.preprocessing import LabelEncoder, OneHotEncoder\n",
    "from sklearn.compose import ColumnTransformer\n",
    "\n",
    "# encode the state names in the 3rd column\n",
    "label = LabelEncoder()\n",
    "X[:, 3] = label.fit_transform(X[:, 3])\n",
    "ct = ColumnTransformer([('any_name', OneHotEncoder(), [3])], remainder='passthrough')\n",
    "X = ct.fit_transform(X)\n",
    "X"
   ]
  },
  {
   "cell_type": "code",
   "execution_count": 5,
   "metadata": {},
   "outputs": [],
   "source": [
    "# avoid dummy variable trap\n",
    "# remove the extra 1st column generated by OneHotEncoder\n",
    "X = X[:, 1:]"
   ]
  },
  {
   "cell_type": "code",
   "execution_count": 6,
   "metadata": {},
   "outputs": [],
   "source": [
    "# split data into Train and Test set\n",
    "from sklearn.model_selection import train_test_split\n",
    "X_train, X_test, y_train, y_test = train_test_split(X, y, test_size=0.2, random_state=0)"
   ]
  },
  {
   "cell_type": "code",
   "execution_count": 8,
   "metadata": {},
   "outputs": [
    {
     "data": {
      "text/plain": [
       "LinearRegression(copy_X=True, fit_intercept=True, n_jobs=None, normalize=False)"
      ]
     },
     "execution_count": 8,
     "metadata": {},
     "output_type": "execute_result"
    }
   ],
   "source": [
    "# fit Multiple Linear Regression Model to training set\n",
    "from sklearn.linear_model import LinearRegression\n",
    "regressor = LinearRegression()\n",
    "regressor.fit(X_train, y_train)"
   ]
  },
  {
   "cell_type": "code",
   "execution_count": 9,
   "metadata": {},
   "outputs": [
    {
     "data": {
      "text/plain": [
       "array([ 89790.61532915,  88427.07187361,  94894.67836972, 175680.86725611,\n",
       "        83411.73042088, 110571.90200074, 132145.22936439,  91473.37719686,\n",
       "       164597.05380606,  53222.82667401,  66950.19050989, 150566.43987005,\n",
       "       126915.20858596,  59337.8597105 , 177513.91053062,  75316.28143051,\n",
       "       118248.14406603, 164574.40699902, 170937.2898107 , 182069.11645084,\n",
       "       118845.03252689,  85669.95112229, 180992.59396144,  84145.08220145,\n",
       "       105005.83769214, 101233.56772747,  53831.07669091,  56881.41475224,\n",
       "        68896.39346905, 210040.00765883, 120778.72270894, 111724.87157654,\n",
       "       101487.90541518, 137959.02649624,  63969.95996743, 108857.91214126,\n",
       "       186014.72531988, 171442.64130747, 174644.26529205, 117671.49128195,\n",
       "        96731.37857433, 165452.25779409, 107724.34331255,  50194.54176913,\n",
       "       116513.89532179,  58632.4898682 , 158416.4682761 ,  78541.48521609,\n",
       "       159727.66671743, 131137.87699644, 184880.70924516, 174609.0826688 ,\n",
       "        93745.66352059,  78341.13383418, 180745.9043908 ,  84461.61490552,\n",
       "       142900.90602903, 170618.44098397,  84365.09530839, 105307.3716218 ,\n",
       "       141660.07290787,  52527.34340442, 141842.9626416 , 139176.27973195,\n",
       "        98294.52669666, 113586.86790969, 126754.21895489, 152135.51985562,\n",
       "        58864.51658955, 174285.5736113 , 124624.04380784, 169065.77658978,\n",
       "        91279.33198209, 156170.37268962,  84307.26579366,  77877.75223097,\n",
       "       120414.02421346,  93380.44273241, 139020.62514121, 143604.67103573,\n",
       "       171148.30815368, 140082.97050131, 106369.71689747, 155641.43851388,\n",
       "       140030.10330037, 110172.87893525,  69672.98677565,  88148.52068041,\n",
       "       140133.59925093, 148479.09537887, 157916.63505257,  58532.94863141,\n",
       "        93707.3842239 , 112646.37475705,  56556.1894366 , 107414.89996181,\n",
       "       147352.80227752, 152144.10104034, 167808.11701784, 118750.25230713,\n",
       "       120763.27666701, 139029.95295663, 157527.90934119, 121962.0621496 ,\n",
       "        87091.32399736, 104792.91384333,  95335.22679185, 178389.52287436,\n",
       "       181942.63776381, 109831.34945506, 165254.03344096, 167806.06491902,\n",
       "       158002.44642543, 174782.86900956, 170196.77102699,  52302.18161612,\n",
       "       176938.1159579 , 104751.83583865,  82710.31528805, 138890.52767844,\n",
       "       144274.74675425, 161679.0183644 , 169662.05445895, 120450.9231013 ,\n",
       "       158880.70799547, 110213.73252824, 169674.51532366,  60760.61300841,\n",
       "       159036.99629068, 158169.44286048, 174511.70494475, 156294.79927784,\n",
       "       103714.37583212,  85635.96237574, 141603.54878757, 165917.6915698 ,\n",
       "       121182.03641977, 170751.87883894, 100505.77549411,  82097.51033128,\n",
       "       178643.18879843, 101790.48384578,  70507.40958622,  90250.04230088,\n",
       "        61247.4996268 ,  68912.1753452 ,  72775.81613475, 176914.08873124,\n",
       "        89704.69244931, 129209.43730015,  92672.90938383,  88133.59175044,\n",
       "       172836.33021619,  60893.62070014, 169015.8944601 , 166450.24453204,\n",
       "       165425.54476415, 102170.5169499 , 181594.57928216,  73702.57942561,\n",
       "        91267.42979668, 135791.54160195,  64922.802573  ,  71775.70235726,\n",
       "        60603.91401515, 184288.61041916, 176286.69585945, 158907.75687039,\n",
       "       141359.32216439, 154611.17928321,  58549.58863233,  90618.58407899,\n",
       "       152885.51163925, 168398.05223805,  72485.36274539, 116064.24350667,\n",
       "        80087.80697208, 149828.90896188, 116806.9595737 , 130191.48845161,\n",
       "       174534.42670329, 293584.45948283, 146270.83174789, 150646.69178014,\n",
       "        86107.47782247,  69967.20842246,  70096.78368773,  69033.69170769,\n",
       "       120666.75708063,  89677.68014063, 166824.27091662, 125514.76626409,\n",
       "        67209.67687466, 140930.69427702, 118544.30490695, 165897.61905906,\n",
       "       168655.48652552, 147009.66805049, 141396.22104146, 109086.50634849])"
      ]
     },
     "execution_count": 9,
     "metadata": {},
     "output_type": "execute_result"
    }
   ],
   "source": [
    "# predict the Test set results\n",
    "y_pred = regressor.predict(X_test)\n",
    "y_pred"
   ]
  },
  {
   "cell_type": "code",
   "execution_count": 10,
   "metadata": {},
   "outputs": [
    {
     "name": "stdout",
     "output_type": "stream",
     "text": [
      "[-8.80536598e+02 -6.98169073e+02  5.25845857e-01  8.44390881e-01\n",
      "  1.07574255e-01]\n",
      "-51035.22972402591\n"
     ]
    }
   ],
   "source": [
    "# get the coefficients and intercepts\n",
    "print(regressor.coef_)\n",
    "print(regressor.intercept_)"
   ]
  },
  {
   "cell_type": "code",
   "execution_count": 12,
   "metadata": {},
   "outputs": [
    {
     "data": {
      "text/plain": [
       "0.9112695892268863"
      ]
     },
     "execution_count": 12,
     "metadata": {},
     "output_type": "execute_result"
    }
   ],
   "source": [
    "# evaluate the model by calculating the R-squared value\n",
    "from sklearn.metrics import r2_score\n",
    "r2_score(y_test, y_pred)"
   ]
  },
  {
   "cell_type": "code",
   "execution_count": null,
   "metadata": {},
   "outputs": [],
   "source": []
  }
 ],
 "metadata": {
  "kernelspec": {
   "display_name": "Python 3",
   "language": "python",
   "name": "python3"
  },
  "language_info": {
   "codemirror_mode": {
    "name": "ipython",
    "version": 3
   },
   "file_extension": ".py",
   "mimetype": "text/x-python",
   "name": "python",
   "nbconvert_exporter": "python",
   "pygments_lexer": "ipython3",
   "version": "3.7.6"
  }
 },
 "nbformat": 4,
 "nbformat_minor": 4
}

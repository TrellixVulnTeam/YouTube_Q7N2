{
 "cells": [
  {
   "cell_type": "code",
   "execution_count": 1,
   "metadata": {},
   "outputs": [],
   "source": [
    "# https://www.youtube.com/watch?v=kft1AJ9WVDk\n",
    "# TRAINING PROCESS\n",
    "# 1. take the input from the training example and put them thru our formula to get the neuron's output\n",
    "# 2. calculate the error, which is the difference between the output we got and the actual output\n",
    "# 3. depending on the severity of the error, adjust the weights accordingly\n",
    "# 4. repeat this 20,000 times"
   ]
  },
  {
   "cell_type": "code",
   "execution_count": 14,
   "metadata": {},
   "outputs": [],
   "source": [
    "import numpy as np"
   ]
  },
  {
   "cell_type": "code",
   "execution_count": 27,
   "metadata": {},
   "outputs": [
    {
     "name": "stdout",
     "output_type": "stream",
     "text": [
      "Random starting synaptic weights\n",
      "[[-0.16595599]\n",
      " [ 0.44064899]\n",
      " [-0.99977125]]\n"
     ]
    }
   ],
   "source": [
    "training_input = np.array([[0, 0, 1], [1, 1, 1], [1, 0, 1], [0, 1, 1]])\n",
    "training_output = np.array([[0, 1, 1, 0]]).T\n",
    "\n",
    "np.random.seed(1)\n",
    "weights = 2*np.random.random((3, 1)) - 1\n",
    "print('Random starting synaptic weights')\n",
    "print(weights)"
   ]
  },
  {
   "cell_type": "code",
   "execution_count": 28,
   "metadata": {},
   "outputs": [],
   "source": [
    "def sigmoid(x):\n",
    "    return 1 / (1 + np.exp(-x))\n",
    "\n",
    "def derivative(x):\n",
    "    return x * (1 - x)"
   ]
  },
  {
   "cell_type": "code",
   "execution_count": 29,
   "metadata": {},
   "outputs": [
    {
     "name": "stdout",
     "output_type": "stream",
     "text": [
      "Synaptic weights after training\n",
      "[[12.00870061]\n",
      " [-0.2044116 ]\n",
      " [-5.8002822 ]]\n",
      "Output after training\n",
      "[[0.00301758]\n",
      " [0.99753723]\n",
      " [0.99799161]\n",
      " [0.00246109]]\n"
     ]
    }
   ],
   "source": [
    "for i in range(100000):\n",
    "    # Normalize the input layer with the synaptic weights\n",
    "    input_layer = training_input\n",
    "    output = sigmoid(np.dot(input_layer, weights))\n",
    "    # how much did we miss?\n",
    "    error = training_output - output\n",
    "    # multiply error by the slope of the sigmoid\n",
    "    adjustments = error * derivative(output)\n",
    "    # update weights\n",
    "    weights += np.dot(input_layer.T, adjustments)\n",
    "\n",
    "print('Synaptic weights after training')\n",
    "print(weights)\n",
    "print('Output after training')\n",
    "print(output)"
   ]
  },
  {
   "cell_type": "code",
   "execution_count": 30,
   "metadata": {},
   "outputs": [],
   "source": [
    "class NeuralNetwork():\n",
    "    def __init__(self):\n",
    "        np.random.seed(1)\n",
    "        self.synaptic_weights = 2*np.random.random((3, 1)) - 1\n",
    "        \n",
    "    def sigmoid(self, x):\n",
    "        return 1 / (1 + np.exp(-x))\n",
    "\n",
    "    def sigmoid_derivative(self, x):\n",
    "        return x * (1 - x)\n",
    "    \n",
    "    def train(self, training_input, training_output, n_iterations):\n",
    "        for i in range(n_iterations):\n",
    "            output = self.think(training_input)\n",
    "            error = training_output - output\n",
    "            adjustments = np.dot(training_input.T, error*self.sigmoid_derivative(output))\n",
    "            self.synaptic_weights += adjustments\n",
    "            \n",
    "    def think(self, inputs):\n",
    "        inputs = inputs.astype(float)\n",
    "        output = self.sigmoid(np.dot(inputs, self.synaptic_weights))\n",
    "        return output"
   ]
  },
  {
   "cell_type": "code",
   "execution_count": 32,
   "metadata": {},
   "outputs": [
    {
     "name": "stdout",
     "output_type": "stream",
     "text": [
      "Random starting synaptic weights: \n",
      "[[-0.16595599]\n",
      " [ 0.44064899]\n",
      " [-0.99977125]]\n",
      "Synaptic weights after training: \n",
      "[[ 9.67299303]\n",
      " [-0.2078435 ]\n",
      " [-4.62963669]]\n",
      "Input 1: 1\n",
      "Input 2: 0\n",
      "Input 3: 0\n",
      "New situation: input data =  1 0 0\n",
      "Output data: \n",
      "[0.99993704]\n"
     ]
    }
   ],
   "source": [
    "if __name__ == \"__main__\":\n",
    "    neural_network = NeuralNetwork()\n",
    "\n",
    "    print(\"Random starting synaptic weights: \")\n",
    "    print(neural_network.synaptic_weights)\n",
    "\n",
    "    training_inputs = np.array([[0,0,1],\n",
    "                                [1,1,1],\n",
    "                                [1,0,1],\n",
    "                                [0,1,1]])\n",
    "    training_outputs = np.array([[0,1,1,0]]).T\n",
    "\n",
    "    # Train the neural network\n",
    "    neural_network.train(training_inputs, training_outputs, 10000)\n",
    "\n",
    "    print(\"Synaptic weights after training: \")\n",
    "    print(neural_network.synaptic_weights)\n",
    "\n",
    "    A = str(input(\"Input 1: \"))\n",
    "    B = str(input(\"Input 2: \"))\n",
    "    C = str(input(\"Input 3: \"))\n",
    "    \n",
    "    print(\"New situation: input data = \", A, B, C)\n",
    "    print(\"Output data: \")\n",
    "    print(neural_network.think(np.array([A, B, C])))\n",
    "    \n",
    "    # some sample data\n",
    "    # A=0, B=0, C=1; output=0.009664\n",
    "    # A=1, B=0, C=0; output=0.99993704"
   ]
  },
  {
   "cell_type": "code",
   "execution_count": null,
   "metadata": {},
   "outputs": [],
   "source": []
  }
 ],
 "metadata": {
  "kernelspec": {
   "display_name": "Python 3",
   "language": "python",
   "name": "python3"
  },
  "language_info": {
   "codemirror_mode": {
    "name": "ipython",
    "version": 3
   },
   "file_extension": ".py",
   "mimetype": "text/x-python",
   "name": "python",
   "nbconvert_exporter": "python",
   "pygments_lexer": "ipython3",
   "version": "3.7.6"
  }
 },
 "nbformat": 4,
 "nbformat_minor": 4
}

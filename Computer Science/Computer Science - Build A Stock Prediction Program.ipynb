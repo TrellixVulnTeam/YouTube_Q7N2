{
 "cells": [
  {
   "cell_type": "code",
   "execution_count": null,
   "metadata": {},
   "outputs": [],
   "source": [
    "# https://www.youtube.com/watch?v=EYnC4ACIt2g"
   ]
  },
  {
   "cell_type": "code",
   "execution_count": 1,
   "metadata": {},
   "outputs": [
    {
     "name": "stdout",
     "output_type": "stream",
     "text": [
      "Collecting quandl\n",
      "  Using cached Quandl-3.5.3-py2.py3-none-any.whl (25 kB)\n",
      "Requirement already satisfied: numpy>=1.8 in /Users/My/opt/anaconda3/lib/python3.7/site-packages (from quandl) (1.18.1)\n",
      "Requirement already satisfied: more-itertools in /Users/My/opt/anaconda3/lib/python3.7/site-packages (from quandl) (8.2.0)\n",
      "Requirement already satisfied: requests>=2.7.0 in /Users/My/opt/anaconda3/lib/python3.7/site-packages (from quandl) (2.22.0)\n",
      "Requirement already satisfied: six in /Users/My/opt/anaconda3/lib/python3.7/site-packages (from quandl) (1.14.0)\n",
      "Requirement already satisfied: python-dateutil in /Users/My/opt/anaconda3/lib/python3.7/site-packages (from quandl) (2.8.1)\n",
      "Collecting inflection>=0.3.1\n",
      "  Using cached inflection-0.5.1-py2.py3-none-any.whl (9.5 kB)\n",
      "Requirement already satisfied: pandas>=0.14 in /Users/My/opt/anaconda3/lib/python3.7/site-packages (from quandl) (1.0.1)\n",
      "Requirement already satisfied: certifi>=2017.4.17 in /Users/My/opt/anaconda3/lib/python3.7/site-packages (from requests>=2.7.0->quandl) (2019.11.28)\n",
      "Requirement already satisfied: urllib3!=1.25.0,!=1.25.1,<1.26,>=1.21.1 in /Users/My/opt/anaconda3/lib/python3.7/site-packages (from requests>=2.7.0->quandl) (1.25.8)\n",
      "Requirement already satisfied: chardet<3.1.0,>=3.0.2 in /Users/My/opt/anaconda3/lib/python3.7/site-packages (from requests>=2.7.0->quandl) (3.0.4)\n",
      "Requirement already satisfied: idna<2.9,>=2.5 in /Users/My/opt/anaconda3/lib/python3.7/site-packages (from requests>=2.7.0->quandl) (2.8)\n",
      "Requirement already satisfied: pytz>=2017.2 in /Users/My/opt/anaconda3/lib/python3.7/site-packages (from pandas>=0.14->quandl) (2019.3)\n",
      "Installing collected packages: inflection, quandl\n",
      "Successfully installed inflection-0.5.1 quandl-3.5.3\n",
      "Note: you may need to restart the kernel to use updated packages.\n"
     ]
    }
   ],
   "source": [
    "pip install quandl"
   ]
  },
  {
   "cell_type": "code",
   "execution_count": 2,
   "metadata": {},
   "outputs": [],
   "source": [
    "# this program predicts stock prices by using machine learning models\n",
    "# install the dependencies\n",
    "import quandl\n",
    "import numpy as np\n",
    "from sklearn.linear_model import LinearRegression\n",
    "from sklearn.svm import SVR\n",
    "from sklearn.model_selection import train_test_split"
   ]
  },
  {
   "cell_type": "code",
   "execution_count": 3,
   "metadata": {},
   "outputs": [
    {
     "name": "stdout",
     "output_type": "stream",
     "text": [
      "             Open   High    Low    Close       Volume  Ex-Dividend  \\\n",
      "Date                                                                 \n",
      "2012-05-18  42.05  45.00  38.00  38.2318  573576400.0          0.0   \n",
      "2012-05-21  36.53  36.66  33.00  34.0300  168192700.0          0.0   \n",
      "2012-05-22  32.61  33.59  30.94  31.0000  101786600.0          0.0   \n",
      "2012-05-23  31.37  32.50  31.36  32.0000   73600000.0          0.0   \n",
      "2012-05-24  32.95  33.21  31.77  33.0300   50237200.0          0.0   \n",
      "\n",
      "            Split Ratio  Adj. Open  Adj. High  Adj. Low  Adj. Close  \\\n",
      "Date                                                                  \n",
      "2012-05-18          1.0      42.05      45.00     38.00     38.2318   \n",
      "2012-05-21          1.0      36.53      36.66     33.00     34.0300   \n",
      "2012-05-22          1.0      32.61      33.59     30.94     31.0000   \n",
      "2012-05-23          1.0      31.37      32.50     31.36     32.0000   \n",
      "2012-05-24          1.0      32.95      33.21     31.77     33.0300   \n",
      "\n",
      "            Adj. Volume  \n",
      "Date                     \n",
      "2012-05-18  573576400.0  \n",
      "2012-05-21  168192700.0  \n",
      "2012-05-22  101786600.0  \n",
      "2012-05-23   73600000.0  \n",
      "2012-05-24   50237200.0  \n"
     ]
    }
   ],
   "source": [
    "# get the stock data\n",
    "df = quandl.get(\"WIKI/FB\")\n",
    "# take a look at the data\n",
    "print(df.head())"
   ]
  },
  {
   "cell_type": "code",
   "execution_count": 4,
   "metadata": {},
   "outputs": [
    {
     "name": "stdout",
     "output_type": "stream",
     "text": [
      "            Adj. Close\n",
      "Date                  \n",
      "2012-05-18     38.2318\n",
      "2012-05-21     34.0300\n",
      "2012-05-22     31.0000\n",
      "2012-05-23     32.0000\n",
      "2012-05-24     33.0300\n"
     ]
    }
   ],
   "source": [
    "# get the adjusted close price\n",
    "df = df[['Adj. Close']]\n",
    "# take a look at the new data\n",
    "print(df.head())"
   ]
  },
  {
   "cell_type": "code",
   "execution_count": 9,
   "metadata": {},
   "outputs": [
    {
     "name": "stdout",
     "output_type": "stream",
     "text": [
      "            Adj. Close  Prediction\n",
      "Date                              \n",
      "2012-05-18     38.2318       34.03\n",
      "2012-05-21     34.0300       31.00\n",
      "2012-05-22     31.0000       32.00\n",
      "2012-05-23     32.0000       33.03\n",
      "2012-05-24     33.0300       31.91\n",
      "            Adj. Close  Prediction\n",
      "Date                              \n",
      "2018-03-21      169.39      164.89\n",
      "2018-03-22      164.89      159.39\n",
      "2018-03-23      159.39      160.06\n",
      "2018-03-26      160.06      152.19\n",
      "2018-03-27      152.19         NaN\n"
     ]
    }
   ],
   "source": [
    "# a variable for predicting 'n' days out into the future\n",
    "forecast = 1\n",
    "# create the target/dependent column, shifted 'n' units; this is a 2d, 1-column matrix\n",
    "df['Prediction'] = df[['Adj. Close']].shift(-forecast)\n",
    "# print the new data set\n",
    "print(df.head())\n",
    "print(df.tail())"
   ]
  },
  {
   "cell_type": "code",
   "execution_count": 16,
   "metadata": {},
   "outputs": [
    {
     "name": "stdout",
     "output_type": "stream",
     "text": [
      "[[ 38.2318]\n",
      " [ 34.03  ]\n",
      " [ 31.    ]\n",
      " ...\n",
      " [164.89  ]\n",
      " [159.39  ]\n",
      " [160.06  ]]\n"
     ]
    }
   ],
   "source": [
    "### create the independent data set (X)\n",
    "# convert the dataframe to a numpy array; this is a list\n",
    "X = np.array(df['Adj. Close']).reshape(-1, 1)\n",
    "# remove the last 'n' rows\n",
    "X = X[:-forecast]\n",
    "print(X)"
   ]
  },
  {
   "cell_type": "code",
   "execution_count": 20,
   "metadata": {},
   "outputs": [
    {
     "name": "stdout",
     "output_type": "stream",
     "text": [
      "[ 34.03  31.    32.   ... 159.39 160.06 152.19]\n"
     ]
    }
   ],
   "source": [
    "### create the dependent data set (y)\n",
    "# convert the dataframe to a numpy array\n",
    "y = np.array(df['Prediction'])\n",
    "y = y[:-forecast]\n",
    "print(y)"
   ]
  },
  {
   "cell_type": "code",
   "execution_count": 21,
   "metadata": {},
   "outputs": [],
   "source": [
    "# split the data into 80% training and 20% testing\n",
    "x_train, x_test, y_train, y_test = train_test_split(X, y, test_size=0.2)"
   ]
  },
  {
   "cell_type": "code",
   "execution_count": 25,
   "metadata": {},
   "outputs": [
    {
     "data": {
      "text/plain": [
       "SVR(C=1000.0, cache_size=200, coef0=0.0, degree=3, epsilon=0.1, gamma=0.1,\n",
       "    kernel='rbf', max_iter=-1, shrinking=True, tol=0.001, verbose=False)"
      ]
     },
     "execution_count": 25,
     "metadata": {},
     "output_type": "execute_result"
    }
   ],
   "source": [
    "# try with Support Vector Machine\n",
    "svr = SVR(kernel='rbf', C=1e3, gamma=0.1)\n",
    "svr.fit(x_train, y_train)"
   ]
  },
  {
   "cell_type": "code",
   "execution_count": 26,
   "metadata": {},
   "outputs": [
    {
     "name": "stdout",
     "output_type": "stream",
     "text": [
      "SVR score: 0.9947228505654913\n"
     ]
    }
   ],
   "source": [
    "# testing model: score returns the coefficient of determination R^2 of the prediction\n",
    "# the best possible score is 1.0\n",
    "svr_score = svr.score(x_test, y_test)\n",
    "print(\"SVR score:\", svr_score)"
   ]
  },
  {
   "cell_type": "code",
   "execution_count": 27,
   "metadata": {},
   "outputs": [
    {
     "data": {
      "text/plain": [
       "LinearRegression(copy_X=True, fit_intercept=True, n_jobs=None, normalize=False)"
      ]
     },
     "execution_count": 27,
     "metadata": {},
     "output_type": "execute_result"
    }
   ],
   "source": [
    "# try with Linear Regression\n",
    "lr = LinearRegression()\n",
    "# train the model\n",
    "lr.fit(x_train, y_train)"
   ]
  },
  {
   "cell_type": "code",
   "execution_count": 28,
   "metadata": {},
   "outputs": [
    {
     "name": "stdout",
     "output_type": "stream",
     "text": [
      "Linear Regression score: 0.998410625869784\n"
     ]
    }
   ],
   "source": [
    "lr_score = lr.score(x_test, y_test)\n",
    "print(\"Linear Regression score:\", lr_score)"
   ]
  },
  {
   "cell_type": "code",
   "execution_count": 37,
   "metadata": {},
   "outputs": [
    {
     "name": "stdout",
     "output_type": "stream",
     "text": [
      "[[173.15]\n",
      " [179.52]\n",
      " [179.96]\n",
      " [177.36]\n",
      " [176.01]\n",
      " [177.91]\n",
      " [178.99]\n",
      " [183.29]\n",
      " [184.93]\n",
      " [181.46]\n",
      " [178.32]\n",
      " [175.94]\n",
      " [176.62]\n",
      " [180.4 ]\n",
      " [179.78]\n",
      " [183.71]\n",
      " [182.34]\n",
      " [185.23]\n",
      " [184.76]\n",
      " [181.88]\n",
      " [184.19]\n",
      " [183.86]\n",
      " [185.09]\n",
      " [172.56]\n",
      " [168.15]\n",
      " [169.39]\n",
      " [164.89]\n",
      " [159.39]\n",
      " [160.06]\n",
      " [152.19]]\n"
     ]
    }
   ],
   "source": [
    "# set x_forecast to the last 30 rows of the original data set from the adjusted close price\n",
    "x_forecast = np.array(df['Adj. Close'])[-30:].reshape(-1, 1)\n",
    "print(x_forecast)"
   ]
  },
  {
   "cell_type": "code",
   "execution_count": 39,
   "metadata": {},
   "outputs": [
    {
     "name": "stdout",
     "output_type": "stream",
     "text": [
      "[173.30290934 179.67507888 180.11522874 177.51434322 176.16388342\n",
      " 178.06453054 179.14489837 183.4463629  185.08692146 181.61573962\n",
      " 178.47467018 176.09385958 176.77409118 180.5553786  179.93516744\n",
      " 183.86650595 182.49603934 185.38702364 184.91686356 182.03588267\n",
      " 184.34666943 184.01655703 185.24697596 172.7127084  168.30120641\n",
      " 169.54162874 165.04009609 159.53822286 160.20845106 152.33577063]\n"
     ]
    }
   ],
   "source": [
    "# print the linear regression predictions for the next 'n' days\n",
    "lr_predict = lr.predict(x_forecast)\n",
    "print(lr_predict)"
   ]
  },
  {
   "cell_type": "code",
   "execution_count": 40,
   "metadata": {},
   "outputs": [
    {
     "name": "stdout",
     "output_type": "stream",
     "text": [
      "[172.7966825  179.38102383 179.86557962 177.24204771 177.35968465\n",
      " 177.71958791 178.88664469 183.02024849 184.98876201 182.4032513\n",
      " 178.18235931 177.37868457 177.14019006 180.50835154 179.65150891\n",
      " 183.10892509 183.16425172 185.64986289 184.61926217 182.92406316\n",
      " 183.57919977 183.21026961 185.34289554 172.09802541 169.29023626\n",
      " 169.81182997 165.64026399 159.95991232 159.755057   152.36216827]\n"
     ]
    }
   ],
   "source": [
    "# print the support vector machine predictions for the next 'n' days\n",
    "svm_predict = svr.predict(x_forecast)\n",
    "print(svm_predict)"
   ]
  },
  {
   "cell_type": "code",
   "execution_count": null,
   "metadata": {},
   "outputs": [],
   "source": []
  }
 ],
 "metadata": {
  "kernelspec": {
   "display_name": "Python 3",
   "language": "python",
   "name": "python3"
  },
  "language_info": {
   "codemirror_mode": {
    "name": "ipython",
    "version": 3
   },
   "file_extension": ".py",
   "mimetype": "text/x-python",
   "name": "python",
   "nbconvert_exporter": "python",
   "pygments_lexer": "ipython3",
   "version": "3.7.6"
  }
 },
 "nbformat": 4,
 "nbformat_minor": 4
}

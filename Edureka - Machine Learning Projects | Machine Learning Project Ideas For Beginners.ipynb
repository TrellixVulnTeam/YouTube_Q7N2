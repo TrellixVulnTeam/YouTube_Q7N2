{
 "cells": [
  {
   "cell_type": "code",
   "execution_count": null,
   "metadata": {},
   "outputs": [],
   "source": [
    "# https://www.youtube.com/watch?v=tTijEvJqTzI"
   ]
  },
  {
   "cell_type": "code",
   "execution_count": 1,
   "metadata": {},
   "outputs": [],
   "source": [
    "# FIRST PROJECT\n",
    "import pandas as pd\n",
    "import numpy as np\n",
    "import matplotlib.pyplot as plt\n",
    "import seaborn as sns\n",
    "%matplotlib inline\n",
    "import warnings\n",
    "warnings.filterwarnings('ignore')"
   ]
  },
  {
   "cell_type": "code",
   "execution_count": null,
   "metadata": {},
   "outputs": [],
   "source": [
    "# need dataset\n",
    "df = pd.read_csv('voice-classification.csv')\n",
    "df.info()\n",
    "# 3168 rows, 21 columns"
   ]
  },
  {
   "cell_type": "code",
   "execution_count": null,
   "metadata": {},
   "outputs": [],
   "source": [
    "df.describe()"
   ]
  },
  {
   "cell_type": "code",
   "execution_count": null,
   "metadata": {},
   "outputs": [],
   "source": [
    "# look for irregularities\n",
    "df.isnull().sum()\n",
    "# no null value"
   ]
  },
  {
   "cell_type": "code",
   "execution_count": null,
   "metadata": {},
   "outputs": [],
   "source": [
    "print(df.shape)\n",
    "print(\"male: {}\".format(df[df.label == 'male'].shape[0]))\n",
    "print(\"female: {}\".format(df[df.label == 'female'].shape[0]))"
   ]
  },
  {
   "cell_type": "code",
   "execution_count": null,
   "metadata": {},
   "outputs": [],
   "source": [
    "X = df.iloc[:, :-1]\n",
    "y = df.iloc[:, -1]\n",
    "print(df.shape)\n",
    "print(X.shape)\n",
    "# X has the same number of rows, but one less column than df"
   ]
  },
  {
   "cell_type": "code",
   "execution_count": null,
   "metadata": {},
   "outputs": [],
   "source": [
    "from sklearn.preprocessing import LabelEncoder\n",
    "\n",
    "# encode the strings \"male\" and \"female\"\n",
    "gender = LabelEncoder()\n",
    "y = gender.fit_transform(y)"
   ]
  },
  {
   "cell_type": "code",
   "execution_count": null,
   "metadata": {},
   "outputs": [],
   "source": [
    "from sklearn.preprocessing import StandardScaler\n",
    "\n",
    "scaler = StandardScaler()\n",
    "scaler.fit(X)\n",
    "X = scaler.transform(X)"
   ]
  },
  {
   "cell_type": "code",
   "execution_count": null,
   "metadata": {},
   "outputs": [],
   "source": [
    "from sklearn.model_selection import train_test_split\n",
    "\n",
    "X_train, X_test, y_train, y_test = train_test_split(X, y, test_size=0.3, random_state=100)"
   ]
  },
  {
   "cell_type": "code",
   "execution_count": null,
   "metadata": {},
   "outputs": [],
   "source": [
    "from sklearn.svm import SVC\n",
    "\n",
    "svc = SVC()\n",
    "svc.fit(X_train, y_train)\n",
    "y_pred = svc.predict(X_test)"
   ]
  },
  {
   "cell_type": "code",
   "execution_count": null,
   "metadata": {},
   "outputs": [],
   "source": [
    "from sklearn import metrics\n",
    "\n",
    "print(\"Accuracy score\")\n",
    "print(metrics.accuracy_score(y_test, y_pred))\n",
    "# 0.9737"
   ]
  },
  {
   "cell_type": "code",
   "execution_count": null,
   "metadata": {},
   "outputs": [],
   "source": [
    "from sklearn.metrics import confusion_matrix\n",
    "\n",
    "print(\"Confusion Matrix\")\n",
    "print(confusion_matrix(y_test, y_pred))"
   ]
  },
  {
   "cell_type": "code",
   "execution_count": null,
   "metadata": {},
   "outputs": [],
   "source": [
    "from sklearn.metrics import classification_report\n",
    "\n",
    "print(\"Classification Report\")\n",
    "print(classification_report(y_test, y_pred))"
   ]
  },
  {
   "cell_type": "code",
   "execution_count": null,
   "metadata": {},
   "outputs": [],
   "source": [
    "from sklearn.model_selection import GridSearchCV\n",
    "\n",
    "param_grid = { 'C':[0.1, 1, 10, 100], 'gamma':[1, 0.1, 0.01, 0.001] }\n",
    "grid = GridSearchCV(SVC(), param_grid, refit=True, verbose=2)\n",
    "grid.fit(X_train, y_train)"
   ]
  },
  {
   "cell_type": "code",
   "execution_count": null,
   "metadata": {},
   "outputs": [],
   "source": [
    "grid_pred = grid.predict(X_test)\n",
    "print(\"Accuracy score\")\n",
    "print(metrics.accuracy_score(y_test, grid_pred))\n",
    "# 0.9747"
   ]
  },
  {
   "cell_type": "code",
   "execution_count": null,
   "metadata": {},
   "outputs": [],
   "source": [
    "## SECOND PROJECT\n",
    "import pandas as pd\n",
    "import numpy as np\n",
    "import matplotlib.pyplot as plt\n",
    "import seaborn as sns\n",
    "import warnings\n",
    "%matplotlib inline\n",
    "sns.set()\n",
    "warnings.filterwarnings('ignore')\n",
    "plt.rcParams['figure.figsize'] = (12, 6)"
   ]
  },
  {
   "cell_type": "code",
   "execution_count": null,
   "metadata": {},
   "outputs": [],
   "source": [
    "df = pd.read_csv('driver-data.csv')\n",
    "df.info()\n",
    "# 4000 rows, 3 columns"
   ]
  },
  {
   "cell_type": "code",
   "execution_count": null,
   "metadata": {},
   "outputs": [],
   "source": [
    "df.describe()"
   ]
  },
  {
   "cell_type": "code",
   "execution_count": null,
   "metadata": {},
   "outputs": [],
   "source": [
    "from sklearn.cluster import KMeans\n",
    "\n",
    "kmeans = KMeans(n_clusters=2)\n",
    "df_analyze = df.drop('id', axis=1)\n",
    "kmeans.fit(df_analyze)"
   ]
  },
  {
   "cell_type": "code",
   "execution_count": null,
   "metadata": {},
   "outputs": [],
   "source": [
    "kmeans.cluster_centers_"
   ]
  },
  {
   "cell_type": "code",
   "execution_count": null,
   "metadata": {},
   "outputs": [],
   "source": [
    "print(kmeans.labels_)\n",
    "print(len(kmeans.labels_))\n",
    "# 4000\n",
    "print(type(kmeans.labels_))"
   ]
  },
  {
   "cell_type": "code",
   "execution_count": null,
   "metadata": {},
   "outputs": [],
   "source": [
    "unique, counts = np.unique(kmeans.labels_, return_counts=True)\n",
    "print(dict(zip(unique, counts)))\n",
    "# 800, 3200"
   ]
  },
  {
   "cell_type": "code",
   "execution_count": null,
   "metadata": {},
   "outputs": [],
   "source": [
    "df_analyze['cluster'] = kmeans.labels_\n",
    "sms.set_style('whitegrid')\n",
    "sms.lmplot('mean_dist_day', 'mean_over_speed_perc', data=df_analyze, hue='cluster', palette='coolwarm', size=6, aspect=1, fig_reg=False)"
   ]
  },
  {
   "cell_type": "code",
   "execution_count": null,
   "metadata": {},
   "outputs": [],
   "source": [
    "# let's try it with 4 clusters\n",
    "kmeans4 = KMeans(n_clusters=4)\n",
    "kmeans4.fit(df.drop('id', axis=1))\n",
    "print(kmeans4.cluster_centers_)\n",
    "unique, counts = np.unique(kmeans4.labels_, return_counts=True)\n",
    "print(kmeans4.cluster_centers_)\n",
    "print(dict(zip(unique, counts)))\n",
    "# 2775, 696, 425, 104"
   ]
  },
  {
   "cell_type": "code",
   "execution_count": null,
   "metadata": {},
   "outputs": [],
   "source": [
    "df_analyze['cluster'] = kmeans4.labels_\n",
    "sms.set_style('whitegrid')\n",
    "sms.lmplot('mean_dist_day', 'mean_over_speed_perc', data=df_analyze, hue='cluster', palette='coolwarm', size=6, aspect=1, fig_reg=False)"
   ]
  },
  {
   "cell_type": "code",
   "execution_count": null,
   "metadata": {},
   "outputs": [],
   "source": [
    "## THIRD PROJECT\n",
    "import pandas as pd\n",
    "import pylab as plt\n",
    "import networkx as nx"
   ]
  },
  {
   "cell_type": "code",
   "execution_count": null,
   "metadata": {},
   "outputs": [],
   "source": [
    "points = [(0, 1), (1, 5), (5, 6), (5, 4), (1, 2), (2, 3), (2, 7)]\n",
    "graph = nx.Graph()\n",
    "graph.add_edges_from(points)\n",
    "pos = nx.spring_layout(graph, k=.5, center=points[2])\n",
    "nx.draw_networkx_nodes(graph, pos, node_color='g')\n",
    "nx.draw_networkx_edges(graph, pos, edge_color='b')\n",
    "nx.draw_networkx_labels(graph, pos)\n",
    "plt.show()"
   ]
  },
  {
   "cell_type": "code",
   "execution_count": null,
   "metadata": {},
   "outputs": [],
   "source": [
    "# mapping = { 0:'Start', 1:'1', 2:'2', 3:'3', 4:'4', 5:'5', 6:'6', 7:'7-Destination' }\n",
    "# n_points = 8\n",
    "R = np.matrix(np.ones(shape=(8, 8)))\n",
    "R *= .1\n",
    "\n",
    "goal = 7\n",
    "for point in points:\n",
    "    print(point)\n",
    "    if (point[1] == goal):\n",
    "        R[point] = 150\n",
    "    else:\n",
    "        R[point] = 0\n",
    "\n",
    "    if (point[0] == goal):\n",
    "        R[point[::-1]] = 150\n",
    "    else:\n",
    "        R[point[::-1]] = 0\n",
    "\n",
    "R[goal, goal] = 150\n",
    "R"
   ]
  },
  {
   "cell_type": "code",
   "execution_count": null,
   "metadata": {},
   "outputs": [],
   "source": [
    "initial_state = 1\n",
    "row = matrix[initial_state, ]\n",
    "available_act = np.where(row >= 0)[1]"
   ]
  },
  {
   "cell_type": "code",
   "execution_count": null,
   "metadata": {},
   "outputs": [],
   "source": [
    "action = int(np.random.choice(available_act, 1))"
   ]
  },
  {
   "cell_type": "code",
   "execution_count": null,
   "metadata": {},
   "outputs": [],
   "source": [
    "Q = np.matrix(np.zeros([8, 8]))\n",
    "max_index = np.where(Q[action, ] == np.max(Q[action, ]))[1]\n",
    "if max_index.shape[0] > 1:\n",
    "    max_index = int(np.random.choice(max_index, size=1))\n",
    "else:\n",
    "    max_index = int(max_index)\n",
    "\n",
    "max_value = Q[action, max_index]\n",
    "# the learning parameter\n",
    "gamma = 0.8\n",
    "Q[initial_state, action] = R[initial_state, action] + gamma*max_value\n",
    "print('max_value', (R[initial_state, action] + gamma*max_value))\n",
    "\n",
    "if np.max(Q) > 0:\n",
    "    np.sum(Q / np.max(Q) * 100)\n",
    "else:\n",
    "    0"
   ]
  },
  {
   "cell_type": "code",
   "execution_count": null,
   "metadata": {},
   "outputs": [],
   "source": [
    "# incomplete; at 20:00\n",
    "# need to rewrite several block codes above into functions"
   ]
  }
 ],
 "metadata": {
  "kernelspec": {
   "display_name": "Python 3",
   "language": "python",
   "name": "python3"
  },
  "language_info": {
   "codemirror_mode": {
    "name": "ipython",
    "version": 3
   },
   "file_extension": ".py",
   "mimetype": "text/x-python",
   "name": "python",
   "nbconvert_exporter": "python",
   "pygments_lexer": "ipython3",
   "version": "3.7.6"
  }
 },
 "nbformat": 4,
 "nbformat_minor": 4
}
